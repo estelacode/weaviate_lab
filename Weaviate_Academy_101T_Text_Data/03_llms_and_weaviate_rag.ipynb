{
 "cells": [
  {
   "cell_type": "markdown",
   "id": "3998dd05",
   "metadata": {},
   "source": [
    "## Tutorial 1: Academy Weaviate\n",
    "### [101T Work with: Text Data](https://docs.weaviate.io/academy/py/starter_text_data)"
   ]
  },
  {
   "cell_type": "markdown",
   "id": "100c730d",
   "metadata": {},
   "source": [
    "### 👉 LLMs and Weaviate (RAG)\n",
    "Use AI (large language models) to augment and transform retrieved data.\n",
    "\n",
    "- Describe what RAG is and how it works at a high level.\n",
    "- Perform RAG on individual objects.\n",
    "- Perform RAG on the entire set of returned objects."
   ]
  },
  {
   "cell_type": "markdown",
   "id": "88144933",
   "metadata": {},
   "source": [
    "## ➡️🧠🤓 RAG: Overview\n",
    "`Retrieval augmented generation` (**RAG**) is a way to <u>combine</u> the best of both worlds: <u>the retrieval capabilities of **semantic search** and the **generation** capabilities of AI models</u> such as **large language models**. This allows you to <u>retrieve objects from a Weaviate instance and then generate outputs based on the retrieved objects</u>."
   ]
  },
  {
   "cell_type": "markdown",
   "id": "95b493b7",
   "metadata": {},
   "source": [
    "When we created a collection, we specified the `generative_module` parameter as shown here.\n",
    "```bash\n",
    "generative_config=wc.Configure.Generative.openai()\n",
    "\n",
    "```\n",
    "\n",
    "This selects a `generative module` that will be used to generate outputs based on the retrieved objects. \n",
    "In this case, we're using the openai module, and the GPT family of large language models.\n",
    "\n",
    "As we did before with the `vectorizer` **module**, you will require an `API key` from the provider of the generative module.\n",
    "\n",
    "**RAG queries** are also called **'generative' queries** in **Weaviate**. \n",
    "\n",
    "You can access these functions through the generate submodule of the collection object.\n",
    "\n",
    "Each generative query works in addition to the regular search query, and will perform a RAG query on each retrieved object."
   ]
  },
  {
   "cell_type": "markdown",
   "id": "90d50b01",
   "metadata": {},
   "source": [
    "## ➡️🧠🤓 'Single prompt' generation\n",
    "A 'single prompt' generation will perform RAG queries on each retrieved object. This is useful when you want to transform each object separately, with the same prompt.\n",
    "\n",
    "This example finds entries in \"Movie\" whose vector best matches the query vector (for \"dystopian future\"). Then, instructs the large language model to translate the title of each movie into French. Each of the results is then printed out to the console.\n",
    "\n",
    "```bash\n",
    "import os\n",
    "import weaviate\n",
    "\n",
    "# Instantiate your client (not shown). e.g.:\n",
    "# headers = {\"X-OpenAI-Api-Key\": os.getenv(\"OPENAI_APIKEY\")}  # Replace with your OpenAI API key\n",
    "# client = weaviate.connect_to_weaviate_cloud(..., headers=headers) or\n",
    "# client = weaviate.connect_to_local(..., headers=headers)\n",
    "\n",
    "# Get the collection\n",
    "movies = client.collections.use(\"Movie\")\n",
    "\n",
    "# Perform query\n",
    "response = movies.generate.near_text(\n",
    "    query=\"dystopian future\",\n",
    "    limit=5,\n",
    "    single_prompt=\"Translate this into French: {title}\"\n",
    ")\n",
    "\n",
    "# Inspect the response\n",
    "for o in response.objects:\n",
    "    print(o.properties[\"title\"])  # Print the title\n",
    "    print(o.generated)  # Print the generated text (the title, in French)\n",
    "\n",
    "client.close()\n",
    "````"
   ]
  },
  {
   "cell_type": "markdown",
   "id": "a88d933a",
   "metadata": {},
   "source": [
    "## ◻️ Explain the code\n",
    "You must pass on <u>one or more properties</u> to the `single_prompt` parameter through **braces**, as we've done here with \"... {title} ...\". <u>This will instruct Weaviate to pass on the `title` property from each retrieved object to the large language model.</u>\n",
    "\n",
    "### ◽Response object\n",
    "Each response object is similar to that from a regular search query, with an additional generated attribute. This attribute will contain the generated output for each object."
   ]
  },
  {
   "cell_type": "markdown",
   "id": "b409cf50",
   "metadata": {},
   "source": [
    "## ➡️🧠🤓 'Grouped task' generation\n",
    "\n",
    "A 'grouped task' generation will perform RAG queries on the set of retrieved objects. This is useful when you want to transform the set of objects as a whole, with one prompt.\n",
    "\n",
    "This example <u>finds entries in \"Movie\" whose vector best matches the query vector</u> (for \"dystopian future\"). Then, instructs the large language model to find commonalities between them.\n",
    "\n",
    "```bash\n",
    "import os\n",
    "import weaviate\n",
    "\n",
    "# Instantiate your client (not shown). e.g.:\n",
    "# headers = {\"X-OpenAI-Api-Key\": os.getenv(\"OPENAI_APIKEY\")}  # Replace with your OpenAI API key\n",
    "# client = weaviate.connect_to_weaviate_cloud(..., headers=headers) or\n",
    "# client = weaviate.connect_to_local(..., headers=headers)\n",
    "\n",
    "# Get the collection\n",
    "movies = client.collections.use(\"Movie\")\n",
    "\n",
    "# Perform query\n",
    "response = movies.generate.near_text(\n",
    "    query=\"dystopian future\",\n",
    "    limit=5,\n",
    "    grouped_task=\"What do these movies have in common?\",\n",
    "    # grouped_properties=[\"title\", \"overview\"]  # Optional parameter; for reducing prompt length\n",
    ")\n",
    "\n",
    "# Inspect the response\n",
    "for o in response.objects:\n",
    "    print(o.properties[\"title\"])  # Print the title\n",
    "print(response.generative.text)  # Print the generated text (the commonalities between them)\n",
    "\n",
    "client.close()\n",
    "\n",
    "```"
   ]
  },
  {
   "cell_type": "markdown",
   "id": "f095d83a",
   "metadata": {},
   "source": [
    "## ◻️ Explain the code\n",
    "For grouped_task queries, you simply pass on the prompt to the `grouped_task` parameter. This will instruct Weaviate to pass on the:\n",
    "\n",
    "- text properties from all retrieved objects, and the prompt to the large language model.\n",
    "\n",
    "Example results:\n",
    "```bash\n",
    "In Time\n",
    "Looper\n",
    "I, Robot\n",
    "The Matrix\n",
    "Children of Men\n",
    "These movies all involve futuristic settings and explore themes related to the manipulation of time, technology, and the potential consequences of advancements in society. They also touch on issues such as inequality, control, and the impact of human actions on the future of humanity.\n",
    "```\n",
    "\n",
    "### ◽Response object\n",
    "A RAG query with the grouped_task parameter will return a response with an additional generated attribute. This attribute will contain the generated output for the set of objects."
   ]
  }
 ],
 "metadata": {
  "language_info": {
   "name": "python"
  }
 },
 "nbformat": 4,
 "nbformat_minor": 5
}
